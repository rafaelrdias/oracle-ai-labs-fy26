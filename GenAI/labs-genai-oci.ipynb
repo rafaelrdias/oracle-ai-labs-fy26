{
 "cells": [
  {
   "cell_type": "markdown",
   "id": "ea77d5cd-4be4-4166-b7dd-da7bf9970f86",
   "metadata": {},
   "source": [
    "### OCI Data Science - Useful Tips\n",
    "<details>\n",
    "<summary><font size=\"2\">Check for Public Internet Access</font></summary>\n",
    "\n",
    "```python\n",
    "import requests\n",
    "response = requests.get(\"https://oracle.com\")\n",
    "assert response.status_code==200, \"Internet connection failed\"\n",
    "```\n",
    "</details>\n",
    "<details>\n",
    "<summary><font size=\"2\">Helpful Documentation </font></summary>\n",
    "<ul><li><a href=\"https://docs.cloud.oracle.com/en-us/iaas/data-science/using/data-science.htm\">Data Science Service Documentation</a></li>\n",
    "<li><a href=\"https://docs.cloud.oracle.com/iaas/tools/ads-sdk/latest/index.html\">ADS documentation</a></li>\n",
    "</ul>\n",
    "</details>\n",
    "<details>\n",
    "<summary><font size=\"2\">Typical Cell Imports and Settings for ADS</font></summary>\n",
    "\n",
    "```python\n",
    "%load_ext autoreload\n",
    "%autoreload 2\n",
    "%matplotlib inline\n",
    "\n",
    "import warnings\n",
    "warnings.filterwarnings('ignore')\n",
    "\n",
    "import logging\n",
    "logging.basicConfig(format='%(levelname)s:%(message)s', level=logging.ERROR)\n",
    "\n",
    "import ads\n",
    "from ads.dataset.factory import DatasetFactory\n",
    "from ads.automl.provider import OracleAutoMLProvider\n",
    "from ads.automl.driver import AutoML\n",
    "from ads.evaluations.evaluator import ADSEvaluator\n",
    "from ads.common.data import ADSData\n",
    "from ads.explanations.explainer import ADSExplainer\n",
    "from ads.explanations.mlx_global_explainer import MLXGlobalExplainer\n",
    "from ads.explanations.mlx_local_explainer import MLXLocalExplainer\n",
    "from ads.catalog.model import ModelCatalog\n",
    "from ads.common.model_artifact import ModelArtifact\n",
    "```\n",
    "</details>\n",
    "<details>\n",
    "<summary><font size=\"2\">Useful Environment Variables</font></summary>\n",
    "\n",
    "```python\n",
    "import os\n",
    "print(os.environ[\"NB_SESSION_COMPARTMENT_OCID\"])\n",
    "print(os.environ[\"PROJECT_OCID\"])\n",
    "print(os.environ[\"USER_OCID\"])\n",
    "print(os.environ[\"TENANCY_OCID\"])\n",
    "print(os.environ[\"NB_REGION\"])\n",
    "```\n",
    "</details>"
   ]
  },
  {
   "cell_type": "markdown",
   "id": "09cb198a-50b5-490a-94ab-07dd70565468",
   "metadata": {},
   "source": [
    "### Verificar se a biblioteca da OCI está baixada"
   ]
  },
  {
   "cell_type": "code",
   "execution_count": 36,
   "id": "7fc3dce2-1960-4361-ab3a-ab1ca9bbea4b",
   "metadata": {
    "tags": []
   },
   "outputs": [
    {
     "name": "stdout",
     "output_type": "stream",
     "text": [
      "3.54.2\n"
     ]
    }
   ],
   "source": [
    "!oci --version"
   ]
  },
  {
   "cell_type": "markdown",
   "id": "98c1a1af-fd20-4668-b917-3b0b2e01872b",
   "metadata": {
    "tags": []
   },
   "source": [
    "##### Caso não esteja, rodar o comando:"
   ]
  },
  {
   "cell_type": "markdown",
   "id": "6034546a-507b-4c1e-b0d9-6bcfe30d8e6c",
   "metadata": {
    "tags": []
   },
   "source": [
    "!pip install oci"
   ]
  },
  {
   "cell_type": "markdown",
   "id": "8a9385bf-5301-47ab-8ce4-202948530737",
   "metadata": {},
   "source": [
    "### Configure um arquivo com credenciais API Key\n",
    "- No terminal rode o comado: \n",
    "> oci setup config\n",
    "- Adicionar OCID (no seu perfil > user_setings)\n",
    "- Adicionar Tenanty OCID (no seu perfil > tenancy)\n",
    "- Deixar pastas padrão\n",
    "- Configurar chave pública(perfil > user_settings > tokens and keys > add api key > paste a public key)"
   ]
  },
  {
   "cell_type": "markdown",
   "id": "855d2508-4386-45ae-882e-2df1f77d4f8a",
   "metadata": {},
   "source": [
    "### Código direto do code examples no OCI GenAI\n",
    "- Llama 3.3 70B \n",
    "\n",
    "⚠️⚠️⚠️⚠️⚠️ O código não funciona se você não alterar para o seu compartment_id e conferir model_id ⚠️⚠️⚠️⚠️⚠️⚠️"
   ]
  },
  {
   "cell_type": "code",
   "execution_count": 2,
   "id": "d5315852-431e-4c0b-aeab-715de022bd31",
   "metadata": {
    "tags": []
   },
   "outputs": [],
   "source": [
    "user_input = \"O que é um impedimento?\""
   ]
  },
  {
   "cell_type": "code",
   "execution_count": 42,
   "id": "b61e9803-5d21-43b4-a2f2-991d7d24aa86",
   "metadata": {
    "tags": []
   },
   "outputs": [
    {
     "name": "stdout",
     "output_type": "stream",
     "text": [
      "**************************Chat Result**************************\n",
      "{\n",
      "    \"response\": \"Um impedimento é uma circunstância ou condição que impede alguém de realizar uma ação, tomar uma decisão ou exercer uma função de forma eficaz. Pode ser um obstáculo, uma limitação ou uma restrição que dificulta ou impede o progresso, a realização de um objetivo ou a tomada de uma decisão.\\n\\nExistem vários tipos de impedimentos, incluindo:\\n\\n1. **Impedimentos físicos**: limitações físicas, como deficiências ou doenças, que impedem alguém de realizar certas atividades.\\n2. **Impedimentos emocionais**: problemas emocionais, como ansiedade, depressão ou estresse, que afetam a capacidade de tomar decisões ou realizar tarefas.\\n3. **Impedimentos cognitivos**: limitações cognitivas, como dificuldades de aprendizado ou memória, que impedem alguém de entender ou realizar certas tarefas.\\n4. **Impedimentos sociais**: obstáculos sociais, como falta de apoio ou recursos, que impedem alguém de alcançar seus objetivos.\\n5. **Impedimentos legais**: restrições legais ou regulamentares que impedem alguém de realizar certas ações ou tomar decisões.\\n\\nOs impedimentos podem ser temporários ou permanentes, e podem afetar diferentes aspectos da vida de uma pessoa, incluindo o trabalho, as relações pessoais, a saúde ou a educação.\\n\\nÉ importante identificar e abordar os impedimentos para superá-los e alcançar os objetivos desejados. Isso pode envolver buscar ajuda profissional, desenvolver estratégias de coping, ou encontrar recursos e apoio para superar os obstáculos.\"\n",
      "}\n"
     ]
    }
   ],
   "source": [
    "import oci\n",
    "\n",
    "# Setup basic variables\n",
    "# Auth Config\n",
    "# TODO: Please update config profile name and use the compartmentId that has policies grant permissions for using Generative AI Service\n",
    "compartment_id = \"ocid1.compartment.oc1..aaaaaaaael2x4x2flfdgrteymct63e73zghik5gbyzd2zsww7ihzkfldpdza\"\n",
    "CONFIG_PROFILE = \"DEFAULT\"\n",
    "config = oci.config.from_file('~/.oci/config', CONFIG_PROFILE)\n",
    "\n",
    "# Service endpoint\n",
    "endpoint = \"https://inference.generativeai.sa-saopaulo-1.oci.oraclecloud.com\"\n",
    "\n",
    "generative_ai_inference_client = oci.generative_ai_inference.GenerativeAiInferenceClient(config=config, service_endpoint=endpoint)\n",
    "chat_detail = oci.generative_ai_inference.models.ChatDetails()\n",
    "\n",
    "content = oci.generative_ai_inference.models.TextContent()\n",
    "content.text = f\"{user_input}\"\n",
    "message = oci.generative_ai_inference.models.Message()\n",
    "message.role = \"USER\"\n",
    "message.content = [content]\n",
    "\n",
    "chat_request = oci.generative_ai_inference.models.GenericChatRequest()\n",
    "chat_request.api_format = oci.generative_ai_inference.models.BaseChatRequest.API_FORMAT_GENERIC\n",
    "chat_request.messages = [message]\n",
    "chat_request.max_tokens = 600\n",
    "chat_request.temperature = 1\n",
    "chat_request.frequency_penalty = 0\n",
    "chat_request.presence_penalty = 0\n",
    "chat_request.top_p = 0.75\n",
    "\n",
    "chat_detail.serving_mode = oci.generative_ai_inference.models.OnDemandServingMode(model_id=\"ocid1.generativeaimodel.oc1.sa-saopaulo-1.amaaaaaask7dceyarsn4m6k3aqvvgatida3omyprlcs3alrwcuusblru4jaa\")\n",
    "chat_detail.chat_request = chat_request\n",
    "chat_detail.compartment_id = compartment_id\n",
    "\n",
    "chat_response = generative_ai_inference_client.chat(chat_detail)\n",
    "\n",
    "# Print result\n",
    "print(\"**************************Chat Result**************************\")\n",
    "choices = chat_response.data.chat_response.choices\n",
    "if choices and len(choices) > 0:\n",
    "    response_text = choices[0].message.content[0].text\n",
    "else:\n",
    "    response_text = \"Nenhuma resposta foi gerada pelo modelo.\"\n",
    "# Exibindo a resposta no console\n",
    "print(json.dumps({\"response\": response_text}, indent=4, ensure_ascii=False))"
   ]
  },
  {
   "cell_type": "markdown",
   "id": "0c9199e4-f459-4168-a3d3-22fb9add6377",
   "metadata": {},
   "source": [
    "### Multimodal\n",
    "- Llama 3.2 90B - processando imagens"
   ]
  },
  {
   "cell_type": "code",
   "execution_count": 40,
   "id": "221ca58d-2430-40b6-a0d2-d3b69fe18282",
   "metadata": {
    "tags": []
   },
   "outputs": [],
   "source": [
    "# Configuração da mensagem do sistema e do usuário\n",
    "system_msg = \"\"\"Você é um especialista em futebol\"\"\"\n",
    "user_msg = \"quem é o jogador da imagem? \"\n",
    "image_content = \"jogador1.png\""
   ]
  },
  {
   "cell_type": "code",
   "execution_count": 41,
   "id": "6eef8a8b-3d72-4806-aec4-5973cc91ec52",
   "metadata": {
    "tags": []
   },
   "outputs": [
    {
     "name": "stdout",
     "output_type": "stream",
     "text": [
      "{\n",
      "    \"response\": \"O jogador da imagem é Cristiano Ronaldo, um dos maiores jogadores de futebol de todos os tempos. Ele é conhecido por sua habilidade excepcional, velocidade e precisão nos chutes. Ronaldo já jogou em times como Manchester United, Real Madrid e Juventus, e é um dos principais jogadores da seleção portuguesa. Ele é um dos jogadores mais premiados da história do futebol, tendo conquistado cinco Ballons d'Or e quatro títulos da UEFA Champions League.\"\n",
      "}\n"
     ]
    }
   ],
   "source": [
    "import oci\n",
    "import base64\n",
    "import json\n",
    "\n",
    "# Configuração do cliente usando arquivo config\n",
    "config = oci.config.from_file(\"~/.oci/config\", \"DEFAULT\")\n",
    "signer = oci.signer.Signer(\n",
    "    tenancy=config[\"tenancy\"],\n",
    "    user=config[\"user\"],\n",
    "    fingerprint=config[\"fingerprint\"],\n",
    "    private_key_file_location=config[\"key_file\"],\n",
    "    pass_phrase=config.get(\"pass_phrase\")\n",
    ")\n",
    "# Cliente para o serviço Generative AI\n",
    "endpoint = \"https://inference.generativeai.sa-saopaulo-1.oci.oraclecloud.com\"\n",
    "generative_ai_inference_client = oci.generative_ai_inference.GenerativeAiInferenceClient(\n",
    "    config=config,\n",
    "    signer=signer,\n",
    "    service_endpoint=endpoint,\n",
    "    retry_strategy=oci.retry.NoneRetryStrategy(),\n",
    "    timeout=(100, 240)\n",
    ")\n",
    "\n",
    "#base 64 encode\n",
    "try:\n",
    "    with open(image_content, \"rb\") as image_file:\n",
    "        image_data = image_file.read()\n",
    "    base64_image = base64.b64encode(image_data).decode(\"utf-8\")\n",
    "    base64_image_url = f\"data:image/jpeg;base64,{base64_image}\"\n",
    "except oci.exceptions.ServiceError as e:\n",
    "    raise ValueError(f\"Erro ao acessar a imagem\")\n",
    "    \n",
    "\n",
    "\n",
    "# Configuração do conteúdo da imagem\n",
    "imagem = oci.generative_ai_inference.models.ImageContent()\n",
    "image_url_content = oci.generative_ai_inference.models.ImageUrl()\n",
    "image_url_content.url = base64_image_url\n",
    "imagem.image_url = image_url_content\n",
    "\n",
    "# Configuração do conteúdo de texto\n",
    "texto = oci.generative_ai_inference.models.TextContent()\n",
    "texto.text = system_msg + user_msg\n",
    "\n",
    "# Configuração da mensagem do usuário\n",
    "message = oci.generative_ai_inference.models.UserMessage()\n",
    "message.role = \"USER\"\n",
    "message.content = [texto, imagem]\n",
    "\n",
    "\n",
    "# Configuração da solicitação de chat\n",
    "chat_request = oci.generative_ai_inference.models.GenericChatRequest()\n",
    "chat_request.api_format = oci.generative_ai_inference.models.BaseChatRequest.API_FORMAT_GENERIC\n",
    "chat_request.messages = [message]\n",
    "chat_request.num_generations = 1\n",
    "chat_request.is_stream = False\n",
    "chat_request.max_tokens = 4000\n",
    "chat_request.temperature = 0.7\n",
    "chat_request.frequency_penalty = 0\n",
    "chat_request.presence_penalty = 0\n",
    "chat_request.top_p = 0.5\n",
    "chat_request.top_k = 1\n",
    "\n",
    "\n",
    "# Configuração do chat_detail\n",
    "chat_detail = oci.generative_ai_inference.models.ChatDetails()\n",
    "chat_detail.serving_mode = oci.generative_ai_inference.models.OnDemandServingMode(\n",
    "    model_id=\"meta.llama-3.2-90b-vision-instruct\"\n",
    ")\n",
    "chat_detail.chat_request = chat_request\n",
    "chat_detail.compartment_id =  \"ocid1.compartment.oc1..aaaaaaaael2x4x2flfdgrteymct63e73zghik5gbyzd2zsww7ihzkfldpdza\"\n",
    "# Chamada ao serviço\n",
    "chat_response = generative_ai_inference_client.chat(chat_detail)\n",
    "# Extração do texto da resposta\n",
    "choices = chat_response.data.chat_response.choices\n",
    "if choices and len(choices) > 0:\n",
    "    response_text = choices[0].message.content[0].text\n",
    "else:\n",
    "    response_text = \"Nenhuma resposta foi gerada pelo modelo.\"\n",
    "# Exibindo a resposta no console\n",
    "print(json.dumps({\"response\": response_text}, indent=4, ensure_ascii=False))"
   ]
  },
  {
   "cell_type": "code",
   "execution_count": null,
   "id": "04148a49-48a5-4408-aeed-7fce9183fcaf",
   "metadata": {},
   "outputs": [],
   "source": []
  }
 ],
 "metadata": {
  "kernelspec": {
   "display_name": "Python 3 (ipykernel)",
   "language": "python",
   "name": "python3"
  },
  "language_info": {
   "codemirror_mode": {
    "name": "ipython",
    "version": 3
   },
   "file_extension": ".py",
   "mimetype": "text/x-python",
   "name": "python",
   "nbconvert_exporter": "python",
   "pygments_lexer": "ipython3",
   "version": "3.11.9"
  }
 },
 "nbformat": 4,
 "nbformat_minor": 5
}
