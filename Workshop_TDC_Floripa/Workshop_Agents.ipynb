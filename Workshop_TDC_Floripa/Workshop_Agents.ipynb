{
 "cells": [
  {
   "cell_type": "code",
   "execution_count": 1,
   "id": "5a1d6ec0-6475-4cf4-a0b8-b2aff7a612df",
   "metadata": {
    "tags": []
   },
   "outputs": [],
   "source": [
    "from oci.addons.adk import Agent, AgentClient\n",
    "from oci.addons.adk.tool.prebuilt import AgenticRagTool"
   ]
  },
  {
   "cell_type": "code",
   "execution_count": null,
   "id": "883b3d34-ab29-4563-ba60-dc05e3391f8c",
   "metadata": {
    "tags": []
   },
   "outputs": [],
   "source": [
    "def main():\n",
    "\n",
    "    client = AgentClient(\n",
    "        auth_type=\"resource_principal\",\n",
    "        profile=\"DEFAULT\",\n",
    "        region=\"sa-saopaulo-1\"\n",
    "    )\n",
    "\n",
    "    # Assuming the knowledge base is already provisioned\n",
    "    knowledge_base_id = \"ocid1.genaiagentknowledgebase.oc1......\"\n",
    "\n",
    "    # Create a RAG tool that uses the knowledge base\n",
    "    # The tool name and description are optional, but strongly recommended for LLM to understand the tool.\n",
    "    rag_tool = AgenticRagTool(\n",
    "        name=\"HeatWave RAG tool\",\n",
    "        description=\"Use esta tool para responder questões sobre o MySQL HeatWave. Sempre traduza para a resposta para língua portuguesa!\",\n",
    "        knowledge_base_ids=[knowledge_base_id],\n",
    "    )\n",
    "\n",
    "    # Create the agent with the RAG tool\n",
    "    agent = Agent(\n",
    "        client=client,\n",
    "        agent_endpoint_id=\"ocid1.genaiagentendpoint.oc1....\",\n",
    "        instructions=\"Responda a pergunta usando o HeatWave RAG tool.\",\n",
    "        tools=[rag_tool]\n",
    "    )\n",
    "\n",
    "    # Set up the agent once\n",
    "    agent.setup()\n",
    "\n",
    "    # Run the agent with a user query\n",
    "    input = pergunta_rag\n",
    "    response = agent.run(input)\n",
    "    response.pretty_print()"
   ]
  },
  {
   "cell_type": "code",
   "execution_count": 8,
   "id": "fed0f8c5-b076-413f-8af3-55e9833688bc",
   "metadata": {
    "tags": []
   },
   "outputs": [],
   "source": [
    "pergunta_rag = \"Qual é a afirmação de Richard Winter sobre o HeatWave GenAI?\""
   ]
  },
  {
   "cell_type": "code",
   "execution_count": 9,
   "id": "2157863f-5bce-461b-a7d2-96d24f690816",
   "metadata": {
    "tags": []
   },
   "outputs": [
    {
     "data": {
      "text/html": [
       "<pre style=\"white-space:pre;overflow-x:auto;line-height:normal;font-family:Menlo,'DejaVu Sans Mono',consolas,'Courier New',monospace\"><span style=\"color: #7fbfbf; text-decoration-color: #7fbfbf\">[06/10/25 01:38:37]  </span><span style=\"color: #000080; text-decoration-color: #000080\">INFO    </span> Checking integrity of agent details<span style=\"color: #808000; text-decoration-color: #808000\">...</span>                                               \n",
       "</pre>\n"
      ],
      "text/plain": [
       "\u001b[2;36m[06/10/25 01:38:37] \u001b[0m\u001b[2;36m \u001b[0m\u001b[34mINFO    \u001b[0m Checking integrity of agent details\u001b[33m...\u001b[0m                                               \n"
      ]
     },
     "metadata": {},
     "output_type": "display_data"
    },
    {
     "data": {
      "text/html": [
       "<pre style=\"white-space:pre;overflow-x:auto;line-height:normal;font-family:Menlo,'DejaVu Sans Mono',consolas,'Courier New',monospace\"><span style=\"color: #7fbfbf; text-decoration-color: #7fbfbf\">                     </span><span style=\"color: #000080; text-decoration-color: #000080\">INFO    </span> Checking synchronization of local and remote agent settings<span style=\"color: #808000; text-decoration-color: #808000\">...</span>                       \n",
       "</pre>\n"
      ],
      "text/plain": [
       "\u001b[2;36m                    \u001b[0m\u001b[2;36m \u001b[0m\u001b[34mINFO    \u001b[0m Checking synchronization of local and remote agent settings\u001b[33m...\u001b[0m                       \n"
      ]
     },
     "metadata": {},
     "output_type": "display_data"
    },
    {
     "data": {
      "text/html": [
       "<pre style=\"white-space:pre;overflow-x:auto;line-height:normal;font-family:Menlo,'DejaVu Sans Mono',consolas,'Courier New',monospace\"><span style=\"color: #7fbfbf; text-decoration-color: #7fbfbf\">                     </span><span style=\"color: #000080; text-decoration-color: #000080\">INFO    </span> Checking synchronization of local and remote function tools<span style=\"color: #808000; text-decoration-color: #808000\">...</span>                       \n",
       "</pre>\n"
      ],
      "text/plain": [
       "\u001b[2;36m                    \u001b[0m\u001b[2;36m \u001b[0m\u001b[34mINFO    \u001b[0m Checking synchronization of local and remote function tools\u001b[33m...\u001b[0m                       \n"
      ]
     },
     "metadata": {},
     "output_type": "display_data"
    },
    {
     "data": {
      "text/html": [
       "<pre style=\"white-space:pre;overflow-x:auto;line-height:normal;font-family:Menlo,'DejaVu Sans Mono',consolas,'Courier New',monospace\"><span style=\"color: #000080; text-decoration-color: #000080\">╭─ Local and remote function tools found ─╮</span>\n",
       "<span style=\"color: #000080; text-decoration-color: #000080\">│</span> Local function tools (0):               <span style=\"color: #000080; text-decoration-color: #000080\">│</span>\n",
       "<span style=\"color: #000080; text-decoration-color: #000080\">│</span> <span style=\"color: #008000; text-decoration-color: #008000; font-weight: bold\">[]</span>                                      <span style=\"color: #000080; text-decoration-color: #000080\">│</span>\n",
       "<span style=\"color: #000080; text-decoration-color: #000080\">│</span>                                         <span style=\"color: #000080; text-decoration-color: #000080\">│</span>\n",
       "<span style=\"color: #000080; text-decoration-color: #000080\">│</span> Remote function tools (0):              <span style=\"color: #000080; text-decoration-color: #000080\">│</span>\n",
       "<span style=\"color: #000080; text-decoration-color: #000080\">│</span> <span style=\"color: #008080; text-decoration-color: #008080; font-weight: bold\">[]</span>                                      <span style=\"color: #000080; text-decoration-color: #000080\">│</span>\n",
       "<span style=\"color: #000080; text-decoration-color: #000080\">╰─────────────────────────────────────────╯</span>\n",
       "</pre>\n"
      ],
      "text/plain": [
       "\u001b[34m╭─\u001b[0m\u001b[34m Local and remote function tools found \u001b[0m\u001b[34m─╮\u001b[0m\n",
       "\u001b[34m│\u001b[0m Local function tools (0):               \u001b[34m│\u001b[0m\n",
       "\u001b[34m│\u001b[0m \u001b[1;32m[]\u001b[0m                                      \u001b[34m│\u001b[0m\n",
       "\u001b[34m│\u001b[0m                                         \u001b[34m│\u001b[0m\n",
       "\u001b[34m│\u001b[0m Remote function tools (0):              \u001b[34m│\u001b[0m\n",
       "\u001b[34m│\u001b[0m \u001b[1;36m[]\u001b[0m                                      \u001b[34m│\u001b[0m\n",
       "\u001b[34m╰─────────────────────────────────────────╯\u001b[0m\n"
      ]
     },
     "metadata": {},
     "output_type": "display_data"
    },
    {
     "data": {
      "text/html": [
       "<pre style=\"white-space:pre;overflow-x:auto;line-height:normal;font-family:Menlo,'DejaVu Sans Mono',consolas,'Courier New',monospace\"><span style=\"color: #7fbfbf; text-decoration-color: #7fbfbf\">[06/10/25 01:38:38]  </span><span style=\"color: #000080; text-decoration-color: #000080\">INFO    </span> Checking synchronization of local and remote RAG tools<span style=\"color: #808000; text-decoration-color: #808000\">...</span>                            \n",
       "</pre>\n"
      ],
      "text/plain": [
       "\u001b[2;36m[06/10/25 01:38:38] \u001b[0m\u001b[2;36m \u001b[0m\u001b[34mINFO    \u001b[0m Checking synchronization of local and remote RAG tools\u001b[33m...\u001b[0m                            \n"
      ]
     },
     "metadata": {},
     "output_type": "display_data"
    },
    {
     "data": {
      "text/html": [
       "<pre style=\"white-space:pre;overflow-x:auto;line-height:normal;font-family:Menlo,'DejaVu Sans Mono',consolas,'Courier New',monospace\"><span style=\"color: #7fbfbf; text-decoration-color: #7fbfbf\">                     </span><span style=\"color: #000080; text-decoration-color: #000080\">INFO    </span> Removing remote tool HeatWave RAG tool<span style=\"color: #808000; text-decoration-color: #808000\">...</span>                                            \n",
       "</pre>\n"
      ],
      "text/plain": [
       "\u001b[2;36m                    \u001b[0m\u001b[2;36m \u001b[0m\u001b[34mINFO    \u001b[0m Removing remote tool HeatWave RAG tool\u001b[33m...\u001b[0m                                            \n"
      ]
     },
     "metadata": {},
     "output_type": "display_data"
    },
    {
     "data": {
      "text/html": [
       "<pre style=\"white-space:pre;overflow-x:auto;line-height:normal;font-family:Menlo,'DejaVu Sans Mono',consolas,'Courier New',monospace\"><span style=\"color: #7fbfbf; text-decoration-color: #7fbfbf\">[06/10/25 01:38:43]  </span><span style=\"color: #000080; text-decoration-color: #000080\">INFO    </span> Waiting for tool                                                                     \n",
       "<span style=\"color: #7fbfbf; text-decoration-color: #7fbfbf\">                     </span>         ocid1.genaiagenttool.oc1.sa-saopaulo-<span style=\"color: #008080; text-decoration-color: #008080; font-weight: bold\">1.</span>amaaaaaad6nji3aa5wdd7hl4lmgopionxshn5bcrsxnaqv\n",
       "<span style=\"color: #7fbfbf; text-decoration-color: #7fbfbf\">                     </span>         p3w3uluz4y6iea to be deleted<span style=\"color: #808000; text-decoration-color: #808000\">...</span>                                                      \n",
       "</pre>\n"
      ],
      "text/plain": [
       "\u001b[2;36m[06/10/25 01:38:43] \u001b[0m\u001b[2;36m \u001b[0m\u001b[34mINFO    \u001b[0m Waiting for tool                                                                     \n",
       "\u001b[2;36m                     \u001b[0m         ocid1.genaiagenttool.oc1.sa-saopaulo-\u001b[1;36m1.\u001b[0mamaaaaaad6nji3aa5wdd7hl4lmgopionxshn5bcrsxnaqv\n",
       "\u001b[2;36m                     \u001b[0m         p3w3uluz4y6iea to be deleted\u001b[33m...\u001b[0m                                                      \n"
      ]
     },
     "metadata": {},
     "output_type": "display_data"
    },
    {
     "data": {
      "text/html": [
       "<pre style=\"white-space:pre;overflow-x:auto;line-height:normal;font-family:Menlo,'DejaVu Sans Mono',consolas,'Courier New',monospace\"><span style=\"color: #7fbfbf; text-decoration-color: #7fbfbf\">[06/10/25 01:38:48]  </span><span style=\"color: #000080; text-decoration-color: #000080\">INFO    </span> Waiting for tool                                                                     \n",
       "<span style=\"color: #7fbfbf; text-decoration-color: #7fbfbf\">                     </span>         ocid1.genaiagenttool.oc1.sa-saopaulo-<span style=\"color: #008080; text-decoration-color: #008080; font-weight: bold\">1.</span>amaaaaaad6nji3aa5wdd7hl4lmgopionxshn5bcrsxnaqv\n",
       "<span style=\"color: #7fbfbf; text-decoration-color: #7fbfbf\">                     </span>         p3w3uluz4y6iea to be deleted<span style=\"color: #808000; text-decoration-color: #808000\">...</span>                                                      \n",
       "</pre>\n"
      ],
      "text/plain": [
       "\u001b[2;36m[06/10/25 01:38:48] \u001b[0m\u001b[2;36m \u001b[0m\u001b[34mINFO    \u001b[0m Waiting for tool                                                                     \n",
       "\u001b[2;36m                     \u001b[0m         ocid1.genaiagenttool.oc1.sa-saopaulo-\u001b[1;36m1.\u001b[0mamaaaaaad6nji3aa5wdd7hl4lmgopionxshn5bcrsxnaqv\n",
       "\u001b[2;36m                     \u001b[0m         p3w3uluz4y6iea to be deleted\u001b[33m...\u001b[0m                                                      \n"
      ]
     },
     "metadata": {},
     "output_type": "display_data"
    },
    {
     "data": {
      "text/html": [
       "<pre style=\"white-space:pre;overflow-x:auto;line-height:normal;font-family:Menlo,'DejaVu Sans Mono',consolas,'Courier New',monospace\"><span style=\"color: #7fbfbf; text-decoration-color: #7fbfbf\">[06/10/25 01:38:53]  </span><span style=\"color: #000080; text-decoration-color: #000080\">INFO    </span> Waiting for tool                                                                     \n",
       "<span style=\"color: #7fbfbf; text-decoration-color: #7fbfbf\">                     </span>         ocid1.genaiagenttool.oc1.sa-saopaulo-<span style=\"color: #008080; text-decoration-color: #008080; font-weight: bold\">1.</span>amaaaaaad6nji3aa5wdd7hl4lmgopionxshn5bcrsxnaqv\n",
       "<span style=\"color: #7fbfbf; text-decoration-color: #7fbfbf\">                     </span>         p3w3uluz4y6iea to be deleted<span style=\"color: #808000; text-decoration-color: #808000\">...</span>                                                      \n",
       "</pre>\n"
      ],
      "text/plain": [
       "\u001b[2;36m[06/10/25 01:38:53] \u001b[0m\u001b[2;36m \u001b[0m\u001b[34mINFO    \u001b[0m Waiting for tool                                                                     \n",
       "\u001b[2;36m                     \u001b[0m         ocid1.genaiagenttool.oc1.sa-saopaulo-\u001b[1;36m1.\u001b[0mamaaaaaad6nji3aa5wdd7hl4lmgopionxshn5bcrsxnaqv\n",
       "\u001b[2;36m                     \u001b[0m         p3w3uluz4y6iea to be deleted\u001b[33m...\u001b[0m                                                      \n"
      ]
     },
     "metadata": {},
     "output_type": "display_data"
    },
    {
     "data": {
      "text/html": [
       "<pre style=\"white-space:pre;overflow-x:auto;line-height:normal;font-family:Menlo,'DejaVu Sans Mono',consolas,'Courier New',monospace\"><span style=\"color: #7fbfbf; text-decoration-color: #7fbfbf\">                     </span><span style=\"color: #000080; text-decoration-color: #000080\">INFO    </span> Adding local tool HeatWave RAG tool to remote<span style=\"color: #808000; text-decoration-color: #808000\">...</span>                                     \n",
       "</pre>\n"
      ],
      "text/plain": [
       "\u001b[2;36m                    \u001b[0m\u001b[2;36m \u001b[0m\u001b[34mINFO    \u001b[0m Adding local tool HeatWave RAG tool to remote\u001b[33m...\u001b[0m                                     \n"
      ]
     },
     "metadata": {},
     "output_type": "display_data"
    },
    {
     "data": {
      "text/html": [
       "<pre style=\"white-space:pre;overflow-x:auto;line-height:normal;font-family:Menlo,'DejaVu Sans Mono',consolas,'Courier New',monospace\"><span style=\"color: #7fbfbf; text-decoration-color: #7fbfbf\">[06/10/25 01:38:59]  </span><span style=\"color: #000080; text-decoration-color: #000080\">INFO    </span> Waiting for tool                                                                     \n",
       "<span style=\"color: #7fbfbf; text-decoration-color: #7fbfbf\">                     </span>         ocid1.genaiagenttool.oc1.sa-saopaulo-<span style=\"color: #008080; text-decoration-color: #008080; font-weight: bold\">1.</span>amaaaaaad6nji3aahyhmtfqcmoggnjae634gwsqgwyk2yl\n",
       "<span style=\"color: #7fbfbf; text-decoration-color: #7fbfbf\">                     </span>         7cmxxxllmrry4a to be active<span style=\"color: #808000; text-decoration-color: #808000\">...</span>                                                       \n",
       "</pre>\n"
      ],
      "text/plain": [
       "\u001b[2;36m[06/10/25 01:38:59] \u001b[0m\u001b[2;36m \u001b[0m\u001b[34mINFO    \u001b[0m Waiting for tool                                                                     \n",
       "\u001b[2;36m                     \u001b[0m         ocid1.genaiagenttool.oc1.sa-saopaulo-\u001b[1;36m1.\u001b[0mamaaaaaad6nji3aahyhmtfqcmoggnjae634gwsqgwyk2yl\n",
       "\u001b[2;36m                     \u001b[0m         7cmxxxllmrry4a to be active\u001b[33m...\u001b[0m                                                       \n"
      ]
     },
     "metadata": {},
     "output_type": "display_data"
    },
    {
     "data": {
      "text/html": [
       "<pre style=\"white-space:pre;overflow-x:auto;line-height:normal;font-family:Menlo,'DejaVu Sans Mono',consolas,'Courier New',monospace\"><span style=\"color: #7fbfbf; text-decoration-color: #7fbfbf\">[06/10/25 01:39:04]  </span><span style=\"color: #000080; text-decoration-color: #000080\">INFO    </span> Waiting for tool                                                                     \n",
       "<span style=\"color: #7fbfbf; text-decoration-color: #7fbfbf\">                     </span>         ocid1.genaiagenttool.oc1.sa-saopaulo-<span style=\"color: #008080; text-decoration-color: #008080; font-weight: bold\">1.</span>amaaaaaad6nji3aahyhmtfqcmoggnjae634gwsqgwyk2yl\n",
       "<span style=\"color: #7fbfbf; text-decoration-color: #7fbfbf\">                     </span>         7cmxxxllmrry4a to be active<span style=\"color: #808000; text-decoration-color: #808000\">...</span>                                                       \n",
       "</pre>\n"
      ],
      "text/plain": [
       "\u001b[2;36m[06/10/25 01:39:04] \u001b[0m\u001b[2;36m \u001b[0m\u001b[34mINFO    \u001b[0m Waiting for tool                                                                     \n",
       "\u001b[2;36m                     \u001b[0m         ocid1.genaiagenttool.oc1.sa-saopaulo-\u001b[1;36m1.\u001b[0mamaaaaaad6nji3aahyhmtfqcmoggnjae634gwsqgwyk2yl\n",
       "\u001b[2;36m                     \u001b[0m         7cmxxxllmrry4a to be active\u001b[33m...\u001b[0m                                                       \n"
      ]
     },
     "metadata": {},
     "output_type": "display_data"
    },
    {
     "data": {
      "text/html": [
       "<pre style=\"white-space:pre;overflow-x:auto;line-height:normal;font-family:Menlo,'DejaVu Sans Mono',consolas,'Courier New',monospace\"><span style=\"color: #000080; text-decoration-color: #000080\">╭───────────────────────────────────── Chat request to remote agent ─────────────────────────────────────╮</span>\n",
       "<span style=\"color: #000080; text-decoration-color: #000080\">│</span> (Local --&gt; Remote)                                                                                     <span style=\"color: #000080; text-decoration-color: #000080\">│</span>\n",
       "<span style=\"color: #000080; text-decoration-color: #000080\">│</span>                                                                                                        <span style=\"color: #000080; text-decoration-color: #000080\">│</span>\n",
       "<span style=\"color: #000080; text-decoration-color: #000080\">│</span> user message:                                                                                          <span style=\"color: #000080; text-decoration-color: #000080\">│</span>\n",
       "<span style=\"color: #000080; text-decoration-color: #000080\">│</span> <span style=\"color: #008000; text-decoration-color: #008000; font-weight: bold\">Qual é a afirmação de Richard Winter sobre o HeatWave GenAI?</span>                                           <span style=\"color: #000080; text-decoration-color: #000080\">│</span>\n",
       "<span style=\"color: #000080; text-decoration-color: #000080\">│</span>                                                                                                        <span style=\"color: #000080; text-decoration-color: #000080\">│</span>\n",
       "<span style=\"color: #000080; text-decoration-color: #000080\">│</span> performed actions by client:                                                                           <span style=\"color: #000080; text-decoration-color: #000080\">│</span>\n",
       "<span style=\"color: #000080; text-decoration-color: #000080\">│</span> <span style=\"color: #800080; text-decoration-color: #800080; font-weight: bold\">[]</span>                                                                                                     <span style=\"color: #000080; text-decoration-color: #000080\">│</span>\n",
       "<span style=\"color: #000080; text-decoration-color: #000080\">│</span>                                                                                                        <span style=\"color: #000080; text-decoration-color: #000080\">│</span>\n",
       "<span style=\"color: #000080; text-decoration-color: #000080\">│</span> session id:                                                                                            <span style=\"color: #000080; text-decoration-color: #000080\">│</span>\n",
       "<span style=\"color: #000080; text-decoration-color: #000080\">│</span> <span style=\"color: #008080; text-decoration-color: #008080; font-weight: bold\">ocid1.genaiagentsession.oc1.sa-saopaulo-1.amaaaaaa7mjirbaadvid7a5njfsqm2ollmb27nzalmdypu2d72rm7vbmxqka</span> <span style=\"color: #000080; text-decoration-color: #000080\">│</span>\n",
       "<span style=\"color: #000080; text-decoration-color: #000080\">╰────────────────────────────────────────────────────────────────────────────────────────────────────────╯</span>\n",
       "</pre>\n"
      ],
      "text/plain": [
       "\u001b[34m╭─\u001b[0m\u001b[34m────────────────────────────────────\u001b[0m\u001b[34m Chat request to remote agent \u001b[0m\u001b[34m────────────────────────────────────\u001b[0m\u001b[34m─╮\u001b[0m\n",
       "\u001b[34m│\u001b[0m (Local --> Remote)                                                                                     \u001b[34m│\u001b[0m\n",
       "\u001b[34m│\u001b[0m                                                                                                        \u001b[34m│\u001b[0m\n",
       "\u001b[34m│\u001b[0m user message:                                                                                          \u001b[34m│\u001b[0m\n",
       "\u001b[34m│\u001b[0m \u001b[1;32mQual é a afirmação de Richard Winter sobre o HeatWave GenAI?\u001b[0m                                           \u001b[34m│\u001b[0m\n",
       "\u001b[34m│\u001b[0m                                                                                                        \u001b[34m│\u001b[0m\n",
       "\u001b[34m│\u001b[0m performed actions by client:                                                                           \u001b[34m│\u001b[0m\n",
       "\u001b[34m│\u001b[0m \u001b[1;35m[]\u001b[0m                                                                                                     \u001b[34m│\u001b[0m\n",
       "\u001b[34m│\u001b[0m                                                                                                        \u001b[34m│\u001b[0m\n",
       "\u001b[34m│\u001b[0m session id:                                                                                            \u001b[34m│\u001b[0m\n",
       "\u001b[34m│\u001b[0m \u001b[1;36mocid1.genaiagentsession.oc1.sa-saopaulo-1.amaaaaaa7mjirbaadvid7a5njfsqm2ollmb27nzalmdypu2d72rm7vbmxqka\u001b[0m \u001b[34m│\u001b[0m\n",
       "\u001b[34m╰────────────────────────────────────────────────────────────────────────────────────────────────────────╯\u001b[0m\n"
      ]
     },
     "metadata": {},
     "output_type": "display_data"
    },
    {
     "data": {
      "text/html": [
       "<pre style=\"white-space:pre;overflow-x:auto;line-height:normal;font-family:Menlo,'DejaVu Sans Mono',consolas,'Courier New',monospace\"><span style=\"color: #000080; text-decoration-color: #000080\">╭──────────────────────────────────────── Chat response from remote agent ────────────────────────────────────────╮</span>\n",
       "<span style=\"color: #000080; text-decoration-color: #000080\">│</span> (Local &lt;-- Remote)                                                                                              <span style=\"color: #000080; text-decoration-color: #000080\">│</span>\n",
       "<span style=\"color: #000080; text-decoration-color: #000080\">│</span>                                                                                                                 <span style=\"color: #000080; text-decoration-color: #000080\">│</span>\n",
       "<span style=\"color: #000080; text-decoration-color: #000080\">│</span> agent message:                                                                                                  <span style=\"color: #000080; text-decoration-color: #000080\">│</span>\n",
       "<span style=\"color: #000080; text-decoration-color: #000080\">│</span> <span style=\"color: #008000; text-decoration-color: #008000; font-weight: bold\">{</span>                                                                                                               <span style=\"color: #000080; text-decoration-color: #000080\">│</span>\n",
       "<span style=\"color: #000080; text-decoration-color: #000080\">│</span> <span style=\"color: #008000; text-decoration-color: #008000; font-weight: bold\">    \"role\": \"AGENT\",</span>                                                                                            <span style=\"color: #000080; text-decoration-color: #000080\">│</span>\n",
       "<span style=\"color: #000080; text-decoration-color: #000080\">│</span> <span style=\"color: #008000; text-decoration-color: #008000; font-weight: bold\">    \"content\": {</span>                                                                                                <span style=\"color: #000080; text-decoration-color: #000080\">│</span>\n",
       "<span style=\"color: #000080; text-decoration-color: #000080\">│</span> <span style=\"color: #008000; text-decoration-color: #008000; font-weight: bold\">        \"text\": \"De acordo com as refer\\u00eancias, Richard Winter, CEO, afirma que \\\"HeatWave GenAI's </span>         <span style=\"color: #000080; text-decoration-color: #000080\">│</span>\n",
       "<span style=\"color: #000080; text-decoration-color: #000080\">│</span> <span style=\"color: #008000; text-decoration-color: #008000; font-weight: bold\">automated in-database vector store and in-database LLMs greatly simplify how developers build AI applications </span>  <span style=\"color: #000080; text-decoration-color: #000080\">│</span>\n",
       "<span style=\"color: #000080; text-decoration-color: #000080\">│</span> <span style=\"color: #008000; text-decoration-color: #008000; font-weight: bold\">and users interact with data.\\\" Isso sugere que o HeatWave GenAI oferece uma solu\\u00e7\\u00e3o simplificada e </span>  <span style=\"color: #000080; text-decoration-color: #000080\">│</span>\n",
       "<span style=\"color: #000080; text-decoration-color: #000080\">│</span> <span style=\"color: #008000; text-decoration-color: #008000; font-weight: bold\">eficiente para o desenvolvimento de aplica\\u00e7\\u00f5es de intelig\\u00eancia artificial e intera\\u00e7\\u00e3o </span> <span style=\"color: #000080; text-decoration-color: #000080\">│</span>\n",
       "<span style=\"color: #000080; text-decoration-color: #000080\">│</span> <span style=\"color: #008000; text-decoration-color: #008000; font-weight: bold\">com dados.\",</span>                                                                                                    <span style=\"color: #000080; text-decoration-color: #000080\">│</span>\n",
       "<span style=\"color: #000080; text-decoration-color: #000080\">│</span> <span style=\"color: #008000; text-decoration-color: #008000; font-weight: bold\">        \"citations\": [</span>                                                                                          <span style=\"color: #000080; text-decoration-color: #000080\">│</span>\n",
       "<span style=\"color: #000080; text-decoration-color: #000080\">│</span> <span style=\"color: #008000; text-decoration-color: #008000; font-weight: bold\">            {</span>                                                                                                   <span style=\"color: #000080; text-decoration-color: #000080\">│</span>\n",
       "<span style=\"color: #000080; text-decoration-color: #000080\">│</span> <span style=\"color: #008000; text-decoration-color: #008000; font-weight: bold\">                \"source_text\": \"Clients or any other services never see the data or models\\nstored in the DB </span>   <span style=\"color: #000080; text-decoration-color: #000080\">│</span>\n",
       "<span style=\"color: #000080; text-decoration-color: #000080\">│</span> <span style=\"color: #008000; text-decoration-color: #008000; font-weight: bold\">service\\n\\u2022 Explanations: All models created by HeatWave AutoML can be explained. Enterprises have a </span>       <span style=\"color: #000080; text-decoration-color: #000080\">│</span>\n",
       "<span style=\"color: #000080; text-decoration-color: #000080\">│</span> <span style=\"color: #008000; text-decoration-color: #008000; font-weight: bold\">growing need to explain the predictions of machine\\nlearning models to build trust, demonstrate fairness, and </span>  <span style=\"color: #000080; text-decoration-color: #000080\">│</span>\n",
       "<span style=\"color: #000080; text-decoration-color: #000080\">│</span> <span style=\"color: #008000; text-decoration-color: #008000; font-weight: bold\">comply with\\nregulatory requirements. \\u2022 Performance and Scalability: The performance of HeatWave AutoML </span>   <span style=\"color: #000080; text-decoration-color: #000080\">│</span>\n",
       "<span style=\"color: #000080; text-decoration-color: #000080\">│</span> <span style=\"color: #008000; text-decoration-color: #008000; font-weight: bold\">is\\nmuch better at a lower cost than competing services such as Redshift ML. Furthermore, HeatWave AutoML </span>      <span style=\"color: #000080; text-decoration-color: #000080\">│</span>\n",
       "<span style=\"color: #000080; text-decoration-color: #000080\">│</span> <span style=\"color: #008000; text-decoration-color: #008000; font-weight: bold\">scales with the size of the cluster. \\u2022 Easy Upgrades: HeatWave AutoML leverages state-of-the-art </span>          <span style=\"color: #000080; text-decoration-color: #000080\">│</span>\n",
       "<span style=\"color: #000080; text-decoration-color: #000080\">│</span> <span style=\"color: #008000; text-decoration-color: #008000; font-weight: bold\">open-\\nsource Python ML packages that enable continual and swift uptake of\\nnewer (and improved) versions. </span>     <span style=\"color: #000080; text-decoration-color: #000080\">│</span>\n",
       "<span style=\"color: #000080; text-decoration-color: #000080\">│</span> <span style=\"color: #008000; text-decoration-color: #008000; font-weight: bold\">\\u2022 Supported Models: HeatWave AutoML supports multiple model types\\nsuch as Classification, Regression, </span>    <span style=\"color: #000080; text-decoration-color: #000080\">│</span>\n",
       "<span style=\"color: #000080; text-decoration-color: #000080\">│</span> <span style=\"color: #008000; text-decoration-color: #008000; font-weight: bold\">Time Series Forecasting, Anomaly\\nDetection, Recommender System, etc. This enables organizations to </span>            <span style=\"color: #000080; text-decoration-color: #000080\">│</span>\n",
       "<span style=\"color: #000080; text-decoration-color: #000080\">│</span> <span style=\"color: #008000; text-decoration-color: #008000; font-weight: bold\">use\\nHeatWave AutoML for many different types of business use cases. All these capabilities are available to </span>   <span style=\"color: #000080; text-decoration-color: #000080\">│</span>\n",
       "<span style=\"color: #000080; text-decoration-color: #000080\">│</span> <span style=\"color: #008000; text-decoration-color: #008000; font-weight: bold\">HeatWave customers at no additional\\ncost. HeatWave AutoML is a native, in-database solution, eliminating the </span>  <span style=\"color: #000080; text-decoration-color: #000080\">│</span>\n",
       "<span style=\"color: #000080; text-decoration-color: #000080\">│</span> <span style=\"color: #008000; text-decoration-color: #008000; font-weight: bold\">cost, complexity and risk of ETL\\nLearn more. \\u201cHeatWave GenAI\\u2019s\\nautomated in-\\ndatabase vector </span>      <span style=\"color: #000080; text-decoration-color: #000080\">│</span>\n",
       "<span style=\"color: #000080; text-decoration-color: #000080\">│</span> <span style=\"color: #008000; text-decoration-color: #008000; font-weight: bold\">store\\nand in-database\\nLLMs greatly simplify\\nhow developers build\\nAI applications and\\nusers interact </span>       <span style=\"color: #000080; text-decoration-color: #000080\">│</span>\n",
       "<span style=\"color: #000080; text-decoration-color: #000080\">│</span> <span style=\"color: #008000; text-decoration-color: #008000; font-weight: bold\">with\\ndata. In contrast to\\nmany other vendors\\nthat require multiple\\nsteps to create vector\\nstores and to </span>   <span style=\"color: #000080; text-decoration-color: #000080\">│</span>\n",
       "<span style=\"color: #000080; text-decoration-color: #000080\">│</span> <span style=\"color: #008000; text-decoration-color: #008000; font-weight: bold\">use\\nvector stores with\\nLLMs, HeatWave\\nGenAI requires only\\none SQL statement\\nfor each task and </span>             <span style=\"color: #000080; text-decoration-color: #000080\">│</span>\n",
       "<span style=\"color: #000080; text-decoration-color: #000080\">│</span> <span style=\"color: #008000; text-decoration-color: #008000; font-weight: bold\">it\\u2019s\\nall automated from\\nthere.\\u201d\\nRichard Winter\\nCEO\\nWinterCorp12\",</span>                                <span style=\"color: #000080; text-decoration-color: #000080\">│</span>\n",
       "<span style=\"color: #000080; text-decoration-color: #000080\">│</span> <span style=\"color: #008000; text-decoration-color: #008000; font-weight: bold\">                \"source_location\": {</span>                                                                            <span style=\"color: #000080; text-decoration-color: #000080\">│</span>\n",
       "<span style=\"color: #000080; text-decoration-color: #000080\">│</span> <span style=\"color: #008000; text-decoration-color: #008000; font-weight: bold\">                    \"source_location_type\": \"OCI_OBJECT_STORAGE\",</span>                                               <span style=\"color: #000080; text-decoration-color: #000080\">│</span>\n",
       "<span style=\"color: #000080; text-decoration-color: #000080\">│</span> <span style=\"color: #008000; text-decoration-color: #008000; font-weight: bold\">                    \"url\": </span>                                                                                     <span style=\"color: #000080; text-decoration-color: #000080\">│</span>\n",
       "<span style=\"color: #000080; text-decoration-color: #000080\">│</span> <span style=\"color: #008000; text-decoration-color: #008000; font-weight: bold\">\"https://objectstorage.sa-saopaulo-1.oraclecloud.com/n/idajmumkp9ca/b/agents_demo_bucket/o/mysql-heatwave-techn</span> <span style=\"color: #000080; text-decoration-color: #000080\">│</span>\n",
       "<span style=\"color: #000080; text-decoration-color: #000080\">│</span> <span style=\"color: #008000; text-decoration-color: #008000; font-weight: bold\">ical-brief.pdf\"</span>                                                                                                 <span style=\"color: #000080; text-decoration-color: #000080\">│</span>\n",
       "<span style=\"color: #000080; text-decoration-color: #000080\">│</span> <span style=\"color: #008000; text-decoration-color: #008000; font-weight: bold\">                },</span>                                                                                              <span style=\"color: #000080; text-decoration-color: #000080\">│</span>\n",
       "<span style=\"color: #000080; text-decoration-color: #000080\">│</span> <span style=\"color: #008000; text-decoration-color: #008000; font-weight: bold\">                \"title\": \"mysql-heatwave-technical-brief.pdf\",</span>                                                  <span style=\"color: #000080; text-decoration-color: #000080\">│</span>\n",
       "<span style=\"color: #000080; text-decoration-color: #000080\">│</span> <span style=\"color: #008000; text-decoration-color: #008000; font-weight: bold\">                \"doc_id\": </span>                                                                                      <span style=\"color: #000080; text-decoration-color: #000080\">│</span>\n",
       "<span style=\"color: #000080; text-decoration-color: #000080\">│</span> <span style=\"color: #008000; text-decoration-color: #008000; font-weight: bold\">\"ocid1.genaiagentdatasource.oc1.sa-saopaulo-1.amaaaaaad6nji3aa3mynwawzzy6zglz5g3vmkxnq6idj2xo3jxlw3ydw7zxq/idaj</span> <span style=\"color: #000080; text-decoration-color: #000080\">│</span>\n",
       "<span style=\"color: #000080; text-decoration-color: #000080\">│</span> <span style=\"color: #008000; text-decoration-color: #008000; font-weight: bold\">mumkp9ca/agents_demo_bucket/mysql-heatwave-technical-brief.pdf\",</span>                                                <span style=\"color: #000080; text-decoration-color: #000080\">│</span>\n",
       "<span style=\"color: #000080; text-decoration-color: #000080\">│</span> <span style=\"color: #008000; text-decoration-color: #008000; font-weight: bold\">                \"page_numbers\": [</span>                                                                               <span style=\"color: #000080; text-decoration-color: #000080\">│</span>\n",
       "<span style=\"color: #000080; text-decoration-color: #000080\">│</span> <span style=\"color: #008000; text-decoration-color: #008000; font-weight: bold\">                    11,</span>                                                                                         <span style=\"color: #000080; text-decoration-color: #000080\">│</span>\n",
       "<span style=\"color: #000080; text-decoration-color: #000080\">│</span> <span style=\"color: #008000; text-decoration-color: #008000; font-weight: bold\">                    12</span>                                                                                          <span style=\"color: #000080; text-decoration-color: #000080\">│</span>\n",
       "<span style=\"color: #000080; text-decoration-color: #000080\">│</span> <span style=\"color: #008000; text-decoration-color: #008000; font-weight: bold\">                ],</span>                                                                                              <span style=\"color: #000080; text-decoration-color: #000080\">│</span>\n",
       "<span style=\"color: #000080; text-decoration-color: #000080\">│</span> <span style=\"color: #008000; text-decoration-color: #008000; font-weight: bold\">                \"metadata\": null</span>                                                                                <span style=\"color: #000080; text-decoration-color: #000080\">│</span>\n",
       "<span style=\"color: #000080; text-decoration-color: #000080\">│</span> <span style=\"color: #008000; text-decoration-color: #008000; font-weight: bold\">            }</span>                                                                                                   <span style=\"color: #000080; text-decoration-color: #000080\">│</span>\n",
       "<span style=\"color: #000080; text-decoration-color: #000080\">│</span> <span style=\"color: #008000; text-decoration-color: #008000; font-weight: bold\">        ],</span>                                                                                                      <span style=\"color: #000080; text-decoration-color: #000080\">│</span>\n",
       "<span style=\"color: #000080; text-decoration-color: #000080\">│</span> <span style=\"color: #008000; text-decoration-color: #008000; font-weight: bold\">        \"paragraph_citations\": null</span>                                                                             <span style=\"color: #000080; text-decoration-color: #000080\">│</span>\n",
       "<span style=\"color: #000080; text-decoration-color: #000080\">│</span> <span style=\"color: #008000; text-decoration-color: #008000; font-weight: bold\">    },</span>                                                                                                          <span style=\"color: #000080; text-decoration-color: #000080\">│</span>\n",
       "<span style=\"color: #000080; text-decoration-color: #000080\">│</span> <span style=\"color: #008000; text-decoration-color: #008000; font-weight: bold\">    \"time_created\": \"2025-06-10T01:39:09.544000+00:00\"</span>                                                          <span style=\"color: #000080; text-decoration-color: #000080\">│</span>\n",
       "<span style=\"color: #000080; text-decoration-color: #000080\">│</span> <span style=\"color: #008000; text-decoration-color: #008000; font-weight: bold\">}</span>                                                                                                               <span style=\"color: #000080; text-decoration-color: #000080\">│</span>\n",
       "<span style=\"color: #000080; text-decoration-color: #000080\">│</span>                                                                                                                 <span style=\"color: #000080; text-decoration-color: #000080\">│</span>\n",
       "<span style=\"color: #000080; text-decoration-color: #000080\">│</span> required actions for client to take:                                                                            <span style=\"color: #000080; text-decoration-color: #000080\">│</span>\n",
       "<span style=\"color: #000080; text-decoration-color: #000080\">│</span> <span style=\"color: #800080; text-decoration-color: #800080; font-weight: bold\">null</span>                                                                                                            <span style=\"color: #000080; text-decoration-color: #000080\">│</span>\n",
       "<span style=\"color: #000080; text-decoration-color: #000080\">│</span>                                                                                                                 <span style=\"color: #000080; text-decoration-color: #000080\">│</span>\n",
       "<span style=\"color: #000080; text-decoration-color: #000080\">│</span> guardrail result:                                                                                               <span style=\"color: #000080; text-decoration-color: #000080\">│</span>\n",
       "<span style=\"color: #000080; text-decoration-color: #000080\">│</span> <span style=\"color: #008000; text-decoration-color: #008000; font-weight: bold\">None</span>                                                                                                            <span style=\"color: #000080; text-decoration-color: #000080\">│</span>\n",
       "<span style=\"color: #000080; text-decoration-color: #000080\">│</span>                                                                                                                 <span style=\"color: #000080; text-decoration-color: #000080\">│</span>\n",
       "<span style=\"color: #000080; text-decoration-color: #000080\">│</span>                                                                                                                 <span style=\"color: #000080; text-decoration-color: #000080\">│</span>\n",
       "<span style=\"color: #000080; text-decoration-color: #000080\">╰─────────────────────────────────────────────────────────────────────────────────────────────────────────────────╯</span>\n",
       "</pre>\n"
      ],
      "text/plain": [
       "\u001b[34m╭─\u001b[0m\u001b[34m───────────────────────────────────────\u001b[0m\u001b[34m Chat response from remote agent \u001b[0m\u001b[34m───────────────────────────────────────\u001b[0m\u001b[34m─╮\u001b[0m\n",
       "\u001b[34m│\u001b[0m (Local <-- Remote)                                                                                              \u001b[34m│\u001b[0m\n",
       "\u001b[34m│\u001b[0m                                                                                                                 \u001b[34m│\u001b[0m\n",
       "\u001b[34m│\u001b[0m agent message:                                                                                                  \u001b[34m│\u001b[0m\n",
       "\u001b[34m│\u001b[0m \u001b[1;32m{\u001b[0m                                                                                                               \u001b[34m│\u001b[0m\n",
       "\u001b[34m│\u001b[0m \u001b[1;32m    \"role\": \"AGENT\",\u001b[0m                                                                                            \u001b[34m│\u001b[0m\n",
       "\u001b[34m│\u001b[0m \u001b[1;32m    \"content\": {\u001b[0m                                                                                                \u001b[34m│\u001b[0m\n",
       "\u001b[34m│\u001b[0m \u001b[1;32m        \"text\": \"De acordo com as refer\\u00eancias, Richard Winter, CEO, afirma que \\\"HeatWave GenAI's \u001b[0m         \u001b[34m│\u001b[0m\n",
       "\u001b[34m│\u001b[0m \u001b[1;32mautomated in-database vector store and in-database LLMs greatly simplify how developers build AI applications \u001b[0m  \u001b[34m│\u001b[0m\n",
       "\u001b[34m│\u001b[0m \u001b[1;32mand users interact with data.\\\" Isso sugere que o HeatWave GenAI oferece uma solu\\u00e7\\u00e3o simplificada e \u001b[0m  \u001b[34m│\u001b[0m\n",
       "\u001b[34m│\u001b[0m \u001b[1;32meficiente para o desenvolvimento de aplica\\u00e7\\u00f5es de intelig\\u00eancia artificial e intera\\u00e7\\u00e3o \u001b[0m \u001b[34m│\u001b[0m\n",
       "\u001b[34m│\u001b[0m \u001b[1;32mcom dados.\",\u001b[0m                                                                                                    \u001b[34m│\u001b[0m\n",
       "\u001b[34m│\u001b[0m \u001b[1;32m        \"citations\": [\u001b[0m                                                                                          \u001b[34m│\u001b[0m\n",
       "\u001b[34m│\u001b[0m \u001b[1;32m            {\u001b[0m                                                                                                   \u001b[34m│\u001b[0m\n",
       "\u001b[34m│\u001b[0m \u001b[1;32m                \"source_text\": \"Clients or any other services never see the data or models\\nstored in the DB \u001b[0m   \u001b[34m│\u001b[0m\n",
       "\u001b[34m│\u001b[0m \u001b[1;32mservice\\n\\u2022 Explanations: All models created by HeatWave AutoML can be explained. Enterprises have a \u001b[0m       \u001b[34m│\u001b[0m\n",
       "\u001b[34m│\u001b[0m \u001b[1;32mgrowing need to explain the predictions of machine\\nlearning models to build trust, demonstrate fairness, and \u001b[0m  \u001b[34m│\u001b[0m\n",
       "\u001b[34m│\u001b[0m \u001b[1;32mcomply with\\nregulatory requirements. \\u2022 Performance and Scalability: The performance of HeatWave AutoML \u001b[0m   \u001b[34m│\u001b[0m\n",
       "\u001b[34m│\u001b[0m \u001b[1;32mis\\nmuch better at a lower cost than competing services such as Redshift ML. Furthermore, HeatWave AutoML \u001b[0m      \u001b[34m│\u001b[0m\n",
       "\u001b[34m│\u001b[0m \u001b[1;32mscales with the size of the cluster. \\u2022 Easy Upgrades: HeatWave AutoML leverages state-of-the-art \u001b[0m          \u001b[34m│\u001b[0m\n",
       "\u001b[34m│\u001b[0m \u001b[1;32mopen-\\nsource Python ML packages that enable continual and swift uptake of\\nnewer (and improved) versions. \u001b[0m     \u001b[34m│\u001b[0m\n",
       "\u001b[34m│\u001b[0m \u001b[1;32m\\u2022 Supported Models: HeatWave AutoML supports multiple model types\\nsuch as Classification, Regression, \u001b[0m    \u001b[34m│\u001b[0m\n",
       "\u001b[34m│\u001b[0m \u001b[1;32mTime Series Forecasting, Anomaly\\nDetection, Recommender System, etc. This enables organizations to \u001b[0m            \u001b[34m│\u001b[0m\n",
       "\u001b[34m│\u001b[0m \u001b[1;32muse\\nHeatWave AutoML for many different types of business use cases. All these capabilities are available to \u001b[0m   \u001b[34m│\u001b[0m\n",
       "\u001b[34m│\u001b[0m \u001b[1;32mHeatWave customers at no additional\\ncost. HeatWave AutoML is a native, in-database solution, eliminating the \u001b[0m  \u001b[34m│\u001b[0m\n",
       "\u001b[34m│\u001b[0m \u001b[1;32mcost, complexity and risk of ETL\\nLearn more. \\u201cHeatWave GenAI\\u2019s\\nautomated in-\\ndatabase vector \u001b[0m      \u001b[34m│\u001b[0m\n",
       "\u001b[34m│\u001b[0m \u001b[1;32mstore\\nand in-database\\nLLMs greatly simplify\\nhow developers build\\nAI applications and\\nusers interact \u001b[0m       \u001b[34m│\u001b[0m\n",
       "\u001b[34m│\u001b[0m \u001b[1;32mwith\\ndata. In contrast to\\nmany other vendors\\nthat require multiple\\nsteps to create vector\\nstores and to \u001b[0m   \u001b[34m│\u001b[0m\n",
       "\u001b[34m│\u001b[0m \u001b[1;32muse\\nvector stores with\\nLLMs, HeatWave\\nGenAI requires only\\none SQL statement\\nfor each task and \u001b[0m             \u001b[34m│\u001b[0m\n",
       "\u001b[34m│\u001b[0m \u001b[1;32mit\\u2019s\\nall automated from\\nthere.\\u201d\\nRichard Winter\\nCEO\\nWinterCorp12\",\u001b[0m                                \u001b[34m│\u001b[0m\n",
       "\u001b[34m│\u001b[0m \u001b[1;32m                \"source_location\": {\u001b[0m                                                                            \u001b[34m│\u001b[0m\n",
       "\u001b[34m│\u001b[0m \u001b[1;32m                    \"source_location_type\": \"OCI_OBJECT_STORAGE\",\u001b[0m                                               \u001b[34m│\u001b[0m\n",
       "\u001b[34m│\u001b[0m \u001b[1;32m                    \"url\": \u001b[0m                                                                                     \u001b[34m│\u001b[0m\n",
       "\u001b[34m│\u001b[0m \u001b[1;32m\"https://objectstorage.sa-saopaulo-1.oraclecloud.com/n/idajmumkp9ca/b/agents_demo_bucket/o/mysql-heatwave-techn\u001b[0m \u001b[34m│\u001b[0m\n",
       "\u001b[34m│\u001b[0m \u001b[1;32mical-brief.pdf\"\u001b[0m                                                                                                 \u001b[34m│\u001b[0m\n",
       "\u001b[34m│\u001b[0m \u001b[1;32m                },\u001b[0m                                                                                              \u001b[34m│\u001b[0m\n",
       "\u001b[34m│\u001b[0m \u001b[1;32m                \"title\": \"mysql-heatwave-technical-brief.pdf\",\u001b[0m                                                  \u001b[34m│\u001b[0m\n",
       "\u001b[34m│\u001b[0m \u001b[1;32m                \"doc_id\": \u001b[0m                                                                                      \u001b[34m│\u001b[0m\n",
       "\u001b[34m│\u001b[0m \u001b[1;32m\"ocid1.genaiagentdatasource.oc1.sa-saopaulo-1.amaaaaaad6nji3aa3mynwawzzy6zglz5g3vmkxnq6idj2xo3jxlw3ydw7zxq/idaj\u001b[0m \u001b[34m│\u001b[0m\n",
       "\u001b[34m│\u001b[0m \u001b[1;32mmumkp9ca/agents_demo_bucket/mysql-heatwave-technical-brief.pdf\",\u001b[0m                                                \u001b[34m│\u001b[0m\n",
       "\u001b[34m│\u001b[0m \u001b[1;32m                \"page_numbers\": [\u001b[0m                                                                               \u001b[34m│\u001b[0m\n",
       "\u001b[34m│\u001b[0m \u001b[1;32m                    11,\u001b[0m                                                                                         \u001b[34m│\u001b[0m\n",
       "\u001b[34m│\u001b[0m \u001b[1;32m                    12\u001b[0m                                                                                          \u001b[34m│\u001b[0m\n",
       "\u001b[34m│\u001b[0m \u001b[1;32m                ],\u001b[0m                                                                                              \u001b[34m│\u001b[0m\n",
       "\u001b[34m│\u001b[0m \u001b[1;32m                \"metadata\": null\u001b[0m                                                                                \u001b[34m│\u001b[0m\n",
       "\u001b[34m│\u001b[0m \u001b[1;32m            }\u001b[0m                                                                                                   \u001b[34m│\u001b[0m\n",
       "\u001b[34m│\u001b[0m \u001b[1;32m        ],\u001b[0m                                                                                                      \u001b[34m│\u001b[0m\n",
       "\u001b[34m│\u001b[0m \u001b[1;32m        \"paragraph_citations\": null\u001b[0m                                                                             \u001b[34m│\u001b[0m\n",
       "\u001b[34m│\u001b[0m \u001b[1;32m    },\u001b[0m                                                                                                          \u001b[34m│\u001b[0m\n",
       "\u001b[34m│\u001b[0m \u001b[1;32m    \"time_created\": \"2025-06-10T01:39:09.544000+00:00\"\u001b[0m                                                          \u001b[34m│\u001b[0m\n",
       "\u001b[34m│\u001b[0m \u001b[1;32m}\u001b[0m                                                                                                               \u001b[34m│\u001b[0m\n",
       "\u001b[34m│\u001b[0m                                                                                                                 \u001b[34m│\u001b[0m\n",
       "\u001b[34m│\u001b[0m required actions for client to take:                                                                            \u001b[34m│\u001b[0m\n",
       "\u001b[34m│\u001b[0m \u001b[1;35mnull\u001b[0m                                                                                                            \u001b[34m│\u001b[0m\n",
       "\u001b[34m│\u001b[0m                                                                                                                 \u001b[34m│\u001b[0m\n",
       "\u001b[34m│\u001b[0m guardrail result:                                                                                               \u001b[34m│\u001b[0m\n",
       "\u001b[34m│\u001b[0m \u001b[1;32mNone\u001b[0m                                                                                                            \u001b[34m│\u001b[0m\n",
       "\u001b[34m│\u001b[0m                                                                                                                 \u001b[34m│\u001b[0m\n",
       "\u001b[34m│\u001b[0m                                                                                                                 \u001b[34m│\u001b[0m\n",
       "\u001b[34m╰─────────────────────────────────────────────────────────────────────────────────────────────────────────────────╯\u001b[0m\n"
      ]
     },
     "metadata": {},
     "output_type": "display_data"
    },
    {
     "data": {
      "text/html": [
       "<pre style=\"white-space:pre;overflow-x:auto;line-height:normal;font-family:Menlo,'DejaVu Sans Mono',consolas,'Courier New',monospace\"><span style=\"color: #000080; text-decoration-color: #000080\">╭────────────────────────────────────────────── Agent run response ───────────────────────────────────────────────╮</span>\n",
       "<span style=\"color: #000080; text-decoration-color: #000080\">│</span> agent text message:                                                                                             <span style=\"color: #000080; text-decoration-color: #000080\">│</span>\n",
       "<span style=\"color: #000080; text-decoration-color: #000080\">│</span> <span style=\"color: #008000; text-decoration-color: #008000; font-weight: bold\">De acordo com as referências, Richard Winter, CEO, afirma que \"HeatWave GenAI's automated in-database vector </span>   <span style=\"color: #000080; text-decoration-color: #000080\">│</span>\n",
       "<span style=\"color: #000080; text-decoration-color: #000080\">│</span> <span style=\"color: #008000; text-decoration-color: #008000; font-weight: bold\">store and in-database LLMs greatly simplify how developers build AI applications and users interact with data.\"</span> <span style=\"color: #000080; text-decoration-color: #000080\">│</span>\n",
       "<span style=\"color: #000080; text-decoration-color: #000080\">│</span> <span style=\"color: #008000; text-decoration-color: #008000; font-weight: bold\">Isso sugere que o HeatWave GenAI oferece uma solução simplificada e eficiente para o desenvolvimento de </span>        <span style=\"color: #000080; text-decoration-color: #000080\">│</span>\n",
       "<span style=\"color: #000080; text-decoration-color: #000080\">│</span> <span style=\"color: #008000; text-decoration-color: #008000; font-weight: bold\">aplicações de inteligência artificial e interação com dados.</span>                                                    <span style=\"color: #000080; text-decoration-color: #000080\">│</span>\n",
       "<span style=\"color: #000080; text-decoration-color: #000080\">╰─────────────────────────────────────────────────────────────────────────────────────────────────────────────────╯</span>\n",
       "</pre>\n"
      ],
      "text/plain": [
       "\u001b[34m╭─\u001b[0m\u001b[34m─────────────────────────────────────────────\u001b[0m\u001b[34m Agent run response \u001b[0m\u001b[34m──────────────────────────────────────────────\u001b[0m\u001b[34m─╮\u001b[0m\n",
       "\u001b[34m│\u001b[0m agent text message:                                                                                             \u001b[34m│\u001b[0m\n",
       "\u001b[34m│\u001b[0m \u001b[1;32mDe acordo com as referências, Richard Winter, CEO, afirma que \"HeatWave GenAI's automated in-database vector \u001b[0m   \u001b[34m│\u001b[0m\n",
       "\u001b[34m│\u001b[0m \u001b[1;32mstore and in-database LLMs greatly simplify how developers build AI applications and users interact with data.\"\u001b[0m \u001b[34m│\u001b[0m\n",
       "\u001b[34m│\u001b[0m \u001b[1;32mIsso sugere que o HeatWave GenAI oferece uma solução simplificada e eficiente para o desenvolvimento de \u001b[0m        \u001b[34m│\u001b[0m\n",
       "\u001b[34m│\u001b[0m \u001b[1;32maplicações de inteligência artificial e interação com dados.\u001b[0m                                                    \u001b[34m│\u001b[0m\n",
       "\u001b[34m╰─────────────────────────────────────────────────────────────────────────────────────────────────────────────────╯\u001b[0m\n"
      ]
     },
     "metadata": {},
     "output_type": "display_data"
    }
   ],
   "source": [
    "if __name__ == \"__main__\":\n",
    "    main()"
   ]
  }
 ],
 "metadata": {
  "kernelspec": {
   "display_name": "Python [conda env:python_p311_any_x86_64_v2]",
   "language": "python",
   "name": "conda-env-python_p311_any_x86_64_v2-py"
  },
  "language_info": {
   "codemirror_mode": {
    "name": "ipython",
    "version": 3
   },
   "file_extension": ".py",
   "mimetype": "text/x-python",
   "name": "python",
   "nbconvert_exporter": "python",
   "pygments_lexer": "ipython3",
   "version": "3.11.11"
  }
 },
 "nbformat": 4,
 "nbformat_minor": 5
}
